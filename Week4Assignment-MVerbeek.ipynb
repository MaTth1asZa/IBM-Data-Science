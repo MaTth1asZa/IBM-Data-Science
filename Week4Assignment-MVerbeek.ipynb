{
 "cells": [
  {
   "cell_type": "markdown",
   "id": "b9333748",
   "metadata": {},
   "source": [
    "# My Jupyter Notebook on IBM Watson Studio"
   ]
  },
  {
   "cell_type": "markdown",
   "id": "8b7a46a7",
   "metadata": {},
   "source": [
    "**Matthew Verbeek**\n",
    "\n",
    "Current Poisition: Business Analyst\n",
    "\n",
    "Desired Position: Data Engineer"
   ]
  },
  {
   "cell_type": "markdown",
   "id": "47d20c08",
   "metadata": {},
   "source": [
    "*Data science is incredibly interesting to a person like me. Understand the use cases and aplicability of proper data analysis in this day in age is essential* "
   ]
  },
  {
   "cell_type": "markdown",
   "id": "68bd8a1a",
   "metadata": {},
   "source": [
    "### The below cell calculates the number of snack bars I have eaten today"
   ]
  },
  {
   "cell_type": "code",
   "execution_count": 2,
   "id": "39dbb97a",
   "metadata": {},
   "outputs": [
    {
     "name": "stdout",
     "output_type": "stream",
     "text": [
      "Today is the:\n",
      "2022-03-03 16:50:17.518780\n",
      "and Matthew has eaten 0 snackbars!\n"
     ]
    }
   ],
   "source": [
    "import random\n",
    "n = random.randint(0,10)\n",
    "\n",
    "from datetime import datetime\n",
    "\n",
    "# Current date time in local system\n",
    "print(\"Today is the:\")\n",
    "print(datetime.now())\n",
    "print(\"and Matthew has eaten\",n,\"snackbars!\")\n"
   ]
  },
  {
   "cell_type": "markdown",
   "id": "8a5d385e",
   "metadata": {},
   "source": [
    "|Date|No. of Snackbars|\n",
    "|----|----|\n",
    "|2022-03-02|5|\n",
    "|2022-03-01|40|\n",
    "|2022-02-28|5|\n",
    "\n",
    "\n",
    "\n",
    "\n",
    "\n",
    "\n",
    "Currently, Matty's favourite snack bar is:\n",
    "![alt text][Bar]\n",
    "\n",
    "[Bar]: https://hips.hearstapps.com/vader-prod.s3.amazonaws.com/1586788360-61AsYby7HoL.jpg\n",
    "\n",
    "\n",
    "### Here's some helpful code in terms of predicting whether Matty will have a snack bar today:\n",
    "\n",
    "```python\n",
    "date=datetime.now()\n",
    "if (date == datetime.now()):\n",
    "    print(\"Of course Matty will have a snack bar today\")\n",
    "else:\n",
    "    print(\"Self Destruct Sequence Initiated\")\n",
    "```\n",
    "    \n",
    "\n"
   ]
  },
  {
   "cell_type": "code",
   "execution_count": 16,
   "id": "2ab59091",
   "metadata": {},
   "outputs": [
    {
     "name": "stdout",
     "output_type": "stream",
     "text": [
      "Of course Matty will have a snack bar today\n"
     ]
    }
   ],
   "source": [
    "date=datetime.now()\n",
    "if (date == datetime.now()):\n",
    "    print(\"Of course Matty will have a snack bar today\")\n",
    "else:\n",
    "    print(\"Self Destruct Sequence Initiated\")"
   ]
  },
  {
   "cell_type": "code",
   "execution_count": null,
   "id": "e3b86d8b",
   "metadata": {},
   "outputs": [],
   "source": []
  }
 ],
 "metadata": {
  "kernelspec": {
   "display_name": "Python 3 (ipykernel)",
   "language": "python",
   "name": "python3"
  },
  "language_info": {
   "codemirror_mode": {
    "name": "ipython",
    "version": 3
   },
   "file_extension": ".py",
   "mimetype": "text/x-python",
   "name": "python",
   "nbconvert_exporter": "python",
   "pygments_lexer": "ipython3",
   "version": "3.9.7"
  }
 },
 "nbformat": 4,
 "nbformat_minor": 5
}
